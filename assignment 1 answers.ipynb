{
 "cells": [
  {
   "cell_type": "markdown",
   "metadata": {},
   "source": [
    "# ASSIGNMENT 1\n",
    "PYTHON"
   ]
  },
  {
   "cell_type": "markdown",
   "metadata": {},
   "source": [
    "1. What are the differences between operators and values in the following?\n",
    "*\n",
    "* is a basic multiplication arithmetic operator used in python to multiply the given operands initialized by the user \n",
    "Example \n",
    "X=3   \n",
    "Y=4\n",
    "x*Y   =12\n",
    "________________________________________________________________________\n",
    "'hello'\n",
    "'Hello' is a string variable assigned in python within double or single quotes “”,''\n",
    "When executed gives us the output as 'hello'\n",
    "________________________________________________________________________\n",
    "-87.8\n",
    "-87.6 is a float with .8 at its decimal value\n",
    "_______________________________________________________________________\n",
    "-\n",
    "- is a basic subtraction arithmetic operator used in python to subtract the given operands initialized by the user \n",
    "X=3\n",
    "Y=4\n",
    "x-y   =-1\n",
    "___________________________________________________________________________\n",
    "/\n",
    "/ is a basic division arithmetic operator used in python to divide the given operands initialized by the user\n",
    "X=3  \n",
    "Y=4\n",
    "x\\y   =.75\n",
    " \n",
    "__________________________________________________________________________\n",
    "+\n",
    "+ is a basic addition arithmetic operator used in python to add the given operands initialized by the user \n",
    "X=3   \n",
    "Y=4\n",
    "x+y   =7\n",
    "\n",
    "________________________________________________________________________\n",
    "6 – 6 is just a random variable which can be either used to initialize any operand value \n",
    "For ex a=6 such that the value hold by a is 6\n",
    "_____________________________________________________________"
   ]
  },
  {
   "cell_type": "code",
   "execution_count": 3,
   "metadata": {},
   "outputs": [],
   "source": [
    "x=3\n",
    "y=4"
   ]
  },
  {
   "cell_type": "code",
   "execution_count": 5,
   "metadata": {},
   "outputs": [
    {
     "data": {
      "text/plain": [
       "12"
      ]
     },
     "execution_count": 5,
     "metadata": {},
     "output_type": "execute_result"
    }
   ],
   "source": [
    "x*y"
   ]
  },
  {
   "cell_type": "code",
   "execution_count": 6,
   "metadata": {},
   "outputs": [
    {
     "data": {
      "text/plain": [
       "-1"
      ]
     },
     "execution_count": 6,
     "metadata": {},
     "output_type": "execute_result"
    }
   ],
   "source": [
    "x-y"
   ]
  },
  {
   "cell_type": "code",
   "execution_count": 9,
   "metadata": {},
   "outputs": [
    {
     "data": {
      "text/plain": [
       "0.75"
      ]
     },
     "execution_count": 9,
     "metadata": {},
     "output_type": "execute_result"
    }
   ],
   "source": [
    "x/y"
   ]
  },
  {
   "cell_type": "code",
   "execution_count": 7,
   "metadata": {},
   "outputs": [
    {
     "data": {
      "text/plain": [
       "7"
      ]
     },
     "execution_count": 7,
     "metadata": {},
     "output_type": "execute_result"
    }
   ],
   "source": [
    "x+y"
   ]
  },
  {
   "cell_type": "markdown",
   "metadata": {},
   "source": [
    "______________________________________________________________________\n",
    "2. What is the difference between string and variable?\n",
    "spam\n",
    "'spam'\n",
    "‘spam’ is a string , a string is a type of information in which we can store our information.\n",
    "Whereas a variable is a name that can represent any value.\n",
    "Spam can be converted into a string by using single or double quotes.\n"
   ]
  },
  {
   "cell_type": "markdown",
   "metadata": {},
   "source": [
    "________________________________________________________________________\n",
    "3. Describe three different data forms.\n",
    "The three different data types are INT, FLOAT and COMPLEX NUMBERS \n",
    "Integer – it consist of positive or negative whole numbers.\n",
    "Float – float is represented by a float point . it consist of a real number with a floating point representation which is specified by a decimal point for ex – 9.345\n",
    "Complex number- complex number is made up of a real part and an imaginary part for ex\n",
    "20+9j \n"
   ]
  },
  {
   "cell_type": "code",
   "execution_count": 47,
   "metadata": {},
   "outputs": [],
   "source": [
    "y=9.5"
   ]
  },
  {
   "cell_type": "code",
   "execution_count": 48,
   "metadata": {},
   "outputs": [
    {
     "data": {
      "text/plain": [
       "float"
      ]
     },
     "execution_count": 48,
     "metadata": {},
     "output_type": "execute_result"
    }
   ],
   "source": [
    "type(y)"
   ]
  },
  {
   "cell_type": "code",
   "execution_count": 49,
   "metadata": {},
   "outputs": [],
   "source": [
    "z=20+9j"
   ]
  },
  {
   "cell_type": "code",
   "execution_count": 50,
   "metadata": {},
   "outputs": [
    {
     "data": {
      "text/plain": [
       "complex"
      ]
     },
     "execution_count": 50,
     "metadata": {},
     "output_type": "execute_result"
    }
   ],
   "source": [
    "type(z)"
   ]
  },
  {
   "cell_type": "code",
   "execution_count": 31,
   "metadata": {},
   "outputs": [],
   "source": [
    "x=7"
   ]
  },
  {
   "cell_type": "code",
   "execution_count": 32,
   "metadata": {},
   "outputs": [
    {
     "data": {
      "text/plain": [
       "int"
      ]
     },
     "execution_count": 32,
     "metadata": {},
     "output_type": "execute_result"
    }
   ],
   "source": [
    "type(x)"
   ]
  },
  {
   "cell_type": "markdown",
   "metadata": {},
   "source": [
    "4. What makes up an expression? What are the functions of all expressions?\n",
    "An expression is a combination of values, variables, operators, and it call on to functions \n",
    "In python the expression needs to be evaluated. Expressions are basically the representatives of value. For example any string is also an expression as it represents the value of a string.\n",
    "In general, a function takes arguments (if any), performs some operations, and returns a value (or object). The value that a function returns to the caller is generally known as the function's return value .When you pass a variable to a function, python passes the reference to the object to which the variable refers (the value). Not the variable itself. Functions have a local variable table called a local namespace.\n"
   ]
  },
  {
   "cell_type": "markdown",
   "metadata": {},
   "source": [
    "______________________________________________________________________\n",
    "5. In this chapter, assignment statements such as spam = 10 were added. What's the difference between a declaration and an expression?\n",
    "Expression is a combination of values variables etc for ex \n",
    "5*5 gives us an output of 25 which is an expression\n",
    "Whereas declaration is known as defining a variable \n",
    "\n",
    "_____________________________________________________________________\n"
   ]
  },
  {
   "cell_type": "markdown",
   "metadata": {},
   "source": [
    "6. After running the following code, what does the variable bacon contain?\n",
    "bacon = 22\n",
    "when we will initialize bacon = 22\n",
    "then the value of bacon will be 22 which means when we type bacon the ouput shown will be 22\n",
    "bacon + 1\n",
    "after we add +1 then the output would be 23 as the value hold by bacon is 22\n"
   ]
  },
  {
   "cell_type": "code",
   "execution_count": 33,
   "metadata": {},
   "outputs": [],
   "source": [
    "bacon=22"
   ]
  },
  {
   "cell_type": "code",
   "execution_count": 34,
   "metadata": {},
   "outputs": [
    {
     "data": {
      "text/plain": [
       "23"
      ]
     },
     "execution_count": 34,
     "metadata": {},
     "output_type": "execute_result"
    }
   ],
   "source": [
    "bacon+1"
   ]
  },
  {
   "cell_type": "markdown",
   "metadata": {},
   "source": [
    "7. What should the values of the following two terms be?\n",
    "'spam' + 'spamspam'\n",
    "‘spamspamspam’\n",
    "'spam' * 3\n",
    "‘spamspamspam’\n"
   ]
  },
  {
   "cell_type": "code",
   "execution_count": 35,
   "metadata": {},
   "outputs": [
    {
     "data": {
      "text/plain": [
       "'spamspamspam'"
      ]
     },
     "execution_count": 35,
     "metadata": {},
     "output_type": "execute_result"
    }
   ],
   "source": [
    "\"spam\"+\"spamspam\""
   ]
  },
  {
   "cell_type": "code",
   "execution_count": 37,
   "metadata": {},
   "outputs": [
    {
     "data": {
      "text/plain": [
       "'spamspamspam'"
      ]
     },
     "execution_count": 37,
     "metadata": {},
     "output_type": "execute_result"
    }
   ],
   "source": [
    "\"spam\"*3"
   ]
  },
  {
   "cell_type": "markdown",
   "metadata": {},
   "source": [
    "______________________________________________________________\n",
    "8. Why is it that eggs is a true variable name but 100 is not?\n",
    "We can define a variable using eggs which can store value for example eggs=10 but we cannot use 100 as a variable to store data hence eggs is a true variable and 100 is not\n",
    "______________________________________________________________\n"
   ]
  },
  {
   "cell_type": "code",
   "execution_count": 38,
   "metadata": {},
   "outputs": [],
   "source": [
    "eggs=100"
   ]
  },
  {
   "cell_type": "code",
   "execution_count": 39,
   "metadata": {},
   "outputs": [
    {
     "data": {
      "text/plain": [
       "100"
      ]
     },
     "execution_count": 39,
     "metadata": {},
     "output_type": "execute_result"
    }
   ],
   "source": [
    "eggs"
   ]
  },
  {
   "cell_type": "markdown",
   "metadata": {},
   "source": [
    "9. Which of the following three functions may be used to convert a value to an integer, a floating-point number, or a string?\n",
    "This can be explained with an example \n",
    "8.7 is float \n",
    "7 is an int\n",
    "But if we enclose 8.7 or 8 into single or double quotes then they will be converted into string \n",
    "______________________________________________________________________\n"
   ]
  },
  {
   "cell_type": "code",
   "execution_count": 40,
   "metadata": {},
   "outputs": [
    {
     "data": {
      "text/plain": [
       "int"
      ]
     },
     "execution_count": 40,
     "metadata": {},
     "output_type": "execute_result"
    }
   ],
   "source": [
    "type(x)"
   ]
  },
  {
   "cell_type": "code",
   "execution_count": 42,
   "metadata": {},
   "outputs": [],
   "source": [
    "x=\"7\""
   ]
  },
  {
   "cell_type": "code",
   "execution_count": 43,
   "metadata": {},
   "outputs": [
    {
     "data": {
      "text/plain": [
       "str"
      ]
     },
     "execution_count": 43,
     "metadata": {},
     "output_type": "execute_result"
    }
   ],
   "source": [
    "type(x)"
   ]
  },
  {
   "cell_type": "markdown",
   "metadata": {},
   "source": [
    "________________________________________________________________\n",
    "10. What is the error caused by this expression? What would you do about it?\n",
    "'I have eaten ' + 99 + ' burritos.'\n",
    "It is going to show a TYPEERROR as  ('I have eaten '  + ' burritos.') are string but  99 is an int variable so in order to resolve it we have to convert it into STR by using\n",
    "'I have eaten ' + “99” + ' burritos.'\n"
   ]
  },
  {
   "cell_type": "code",
   "execution_count": 44,
   "metadata": {},
   "outputs": [
    {
     "ename": "SyntaxError",
     "evalue": "invalid syntax (<ipython-input-44-30b1c89d54be>, line 1)",
     "output_type": "error",
     "traceback": [
      "\u001b[1;36m  File \u001b[1;32m\"<ipython-input-44-30b1c89d54be>\"\u001b[1;36m, line \u001b[1;32m1\u001b[0m\n\u001b[1;33m    I have eaten ' + 99 + ' burritos.'\u001b[0m\n\u001b[1;37m      ^\u001b[0m\n\u001b[1;31mSyntaxError\u001b[0m\u001b[1;31m:\u001b[0m invalid syntax\n"
     ]
    }
   ],
   "source": [
    "I have eaten ' + 99 + ' burritos.' "
   ]
  },
  {
   "cell_type": "code",
   "execution_count": 46,
   "metadata": {},
   "outputs": [
    {
     "data": {
      "text/plain": [
       "'I have eaten 99 burritos.'"
      ]
     },
     "execution_count": 46,
     "metadata": {},
     "output_type": "execute_result"
    }
   ],
   "source": [
    " 'I have eaten ' + \"99\" + ' burritos.'"
   ]
  }
 ],
 "metadata": {
  "kernelspec": {
   "display_name": "Python 3",
   "language": "python",
   "name": "python3"
  },
  "language_info": {
   "codemirror_mode": {
    "name": "ipython",
    "version": 3
   },
   "file_extension": ".py",
   "mimetype": "text/x-python",
   "name": "python",
   "nbconvert_exporter": "python",
   "pygments_lexer": "ipython3",
   "version": "3.8.5"
  }
 },
 "nbformat": 4,
 "nbformat_minor": 4
}
