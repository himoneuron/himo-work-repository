{
 "cells": [
  {
   "cell_type": "code",
   "execution_count": 4,
   "metadata": {},
   "outputs": [
    {
     "name": "stdout",
     "output_type": "stream",
     "text": [
      "enter the number u want factorial for4\n",
      "the factorial for given number is 24\n"
     ]
    }
   ],
   "source": [
    "#1.\tWrite a Python Program to Find the Factorial of a Number?\n",
    "a=int(input('enter the number u want factorial for'))\n",
    "factorial=1\n",
    "if a<0:\n",
    "    print('the factorial does not exist')\n",
    "elif a==0:\n",
    "    print('the factorial for zero is one')\n",
    "else:\n",
    "    for i in range(1,a+1):\n",
    "        factorial=factorial*i\n",
    "    print('the factorial for given number is',factorial)"
   ]
  },
  {
   "cell_type": "code",
   "execution_count": 5,
   "metadata": {},
   "outputs": [
    {
     "name": "stdout",
     "output_type": "stream",
     "text": [
      "enter the number u want the multiplication Table for 4\n",
      "4 x 1 = 4\n",
      "4 x 2 = 8\n",
      "4 x 3 = 12\n",
      "4 x 4 = 16\n",
      "4 x 5 = 20\n",
      "4 x 6 = 24\n",
      "4 x 7 = 28\n",
      "4 x 8 = 32\n",
      "4 x 9 = 36\n",
      "4 x 10 = 40\n"
     ]
    }
   ],
   "source": [
    "#Write a Python Program to Display the multiplication Table\n",
    "a=int(input('enter the number u want the multiplication Table for '))\n",
    "for i in range (1,11):\n",
    "    print(a,'x',i,'=',a*i)\n"
   ]
  },
  {
   "cell_type": "code",
   "execution_count": 7,
   "metadata": {},
   "outputs": [
    {
     "name": "stdout",
     "output_type": "stream",
     "text": [
      "enter the number u want fibonacci sequence for 10\n",
      "fibannacci sequence\n",
      "0 , 1,1,2,3,5,8,13,21,34,"
     ]
    }
   ],
   "source": [
    "#3.\tWrite a Python Program to Print the Fibonacci sequence?\n",
    "a=int(input('enter the number u want fibonacci sequence for '))\n",
    "b=0\n",
    "c=1\n",
    "count=2\n",
    "if a<=0:\n",
    "    print(\"enter only positive numbers\")\n",
    "elif a==1:\n",
    "    print('fibannacci sequence')\n",
    "    print(b)\n",
    "else:\n",
    "    print('fibannacci sequence')\n",
    "    print(b,',',c,end=',')\n",
    "    while count<a:\n",
    "        d=b+c\n",
    "        print(d,end=',')\n",
    "        b=c\n",
    "        c=d\n",
    "        count+=1\n",
    "    "
   ]
  },
  {
   "cell_type": "code",
   "execution_count": 10,
   "metadata": {},
   "outputs": [
    {
     "name": "stdout",
     "output_type": "stream",
     "text": [
      "Enter a number78\n",
      "78 is not an Armstrong number\n"
     ]
    }
   ],
   "source": [
    "#4.\tWrite a Python Program to Check Armstrong Number?\n",
    "a = int(input(\"Enter a number\"))\n",
    "# initialize sum\n",
    "sum = 0\n",
    "temp = b = a\n",
    "while b > 0:\n",
    "   c = b % 10\n",
    "   sum += c ** 3\n",
    "   b //= 10\n",
    "\n",
    "if a == sum:\n",
    "   print(a,\"is an Armstrong number\")\n",
    "else:\n",
    "   print(a,\"is not an Armstrong number\")"
   ]
  },
  {
   "cell_type": "code",
   "execution_count": 25,
   "metadata": {},
   "outputs": [
    {
     "name": "stdout",
     "output_type": "stream",
     "text": [
      "153\n",
      "370\n",
      "371\n",
      "407\n",
      "1634\n"
     ]
    }
   ],
   "source": [
    "##.\tWrite a Python Program to Find Armstrong Number in an Interval?\n",
    "lower = 100\n",
    "upper = 2000\n",
    "\n",
    "for num in range(lower, upper + 1):\n",
    "\n",
    "   order = len(str(num))\n",
    "    \n",
    "  \n",
    "   sum = 0\n",
    "\n",
    "   temp = num\n",
    "   while temp > 0:\n",
    "       digit = temp % 10\n",
    "       sum += digit ** order\n",
    "       temp //= 10\n",
    "\n",
    "   if num == sum:\n",
    "       print(num)\n"
   ]
  },
  {
   "cell_type": "code",
   "execution_count": 4,
   "metadata": {},
   "outputs": [
    {
     "name": "stdout",
     "output_type": "stream",
     "text": [
      "enter a natural number of ur choicr of which u want to find the sum16\n",
      "the sum is  136\n"
     ]
    }
   ],
   "source": [
    "## 1.\tWrite a Python Program to Find the Sum of Natural Numbers?\n",
    "a=int(input('enter a natural number of ur choicr of which u want to find the sum'))\n",
    "if a<0:\n",
    "    print(\"enter a positive number\")\n",
    "else:\n",
    "    b=0\n",
    "    while(a>0):\n",
    "        b+=a\n",
    "        a-=1\n",
    "    print(\"the sum is \",b)\n",
    "        "
   ]
  },
  {
   "cell_type": "code",
   "execution_count": null,
   "metadata": {},
   "outputs": [],
   "source": []
  },
  {
   "cell_type": "code",
   "execution_count": null,
   "metadata": {},
   "outputs": [],
   "source": []
  }
 ],
 "metadata": {
  "kernelspec": {
   "display_name": "Python 3",
   "language": "python",
   "name": "python3"
  },
  "language_info": {
   "codemirror_mode": {
    "name": "ipython",
    "version": 3
   },
   "file_extension": ".py",
   "mimetype": "text/x-python",
   "name": "python",
   "nbconvert_exporter": "python",
   "pygments_lexer": "ipython3",
   "version": "3.8.5"
  }
 },
 "nbformat": 4,
 "nbformat_minor": 4
}
